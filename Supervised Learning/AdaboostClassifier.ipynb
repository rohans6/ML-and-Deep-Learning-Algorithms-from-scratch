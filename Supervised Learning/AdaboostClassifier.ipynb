{
 "cells": [
  {
   "cell_type": "code",
   "execution_count": 1,
   "metadata": {},
   "outputs": [],
   "source": [
    "import numpy as np\n",
    "import math\n",
    "from sklearn.datasets import load_breast_cancer\n",
    "from sklearn.model_selection import train_test_split\n",
    "from sklearn.metrics import accuracy_score"
   ]
  },
  {
   "cell_type": "code",
   "execution_count": 2,
   "metadata": {},
   "outputs": [],
   "source": [
    "class DecisionStump():\n",
    "    def __init__(self,feature_index=None,threshold=None,alpha=None,polarity=1):\n",
    "        self.feature_index=feature_index\n",
    "        self.threshold=threshold\n",
    "        self.alpha=alpha\n",
    "        self.polarity=polarity\n",
    "class AdaboostClassifier():\n",
    "    def __init__(self,n_clifs=50):\n",
    "        self.n_clifs=n_clifs\n",
    "    def fit(self,X,y):\n",
    "        samples,features=np.shape(X)\n",
    "        self.clfs=[]\n",
    "        w=np.full(samples,(1/samples))\n",
    "        for i in range(self.n_clifs):\n",
    "            clf=DecisionStump()\n",
    "            min_error=float(\"inf\")\n",
    "            for feature in range(features):\n",
    "                unique_values=np.unique(np.expand_dims(X[:,feature],axis=1))\n",
    "                for unique in unique_values:\n",
    "                    p=1\n",
    "                    predictions=np.ones(np.shape(y))\n",
    "                    predictions[X[:,feature]<unique]=-1\n",
    "                    error=sum(w[y!=predictions])\n",
    "                    if(error>0.5):\n",
    "                        error=1-error\n",
    "                        p=-1\n",
    "                    if(error<min_error):\n",
    "                        clf.feature_index=feature\n",
    "                        clf.threshold=unique\n",
    "                        clf.polarity=p\n",
    "                        min_error=error\n",
    "            clf.alpha=0.5*math.log((1-min_error)/(min_error+1e-10))\n",
    "            predictions=np.ones(np.shape(y))\n",
    "            negative_index=(clf.polarity * X[:,clf.feature_index]<clf.polarity*clf.threshold)\n",
    "            predictions[negative_index]=-1\n",
    "            w *=np.exp(-clf.polarity*y*predictions)\n",
    "            w /=np.sum(w)\n",
    "            self.clfs.append(clf)\n",
    "    def predict(self,X):\n",
    "        samples=np.shape(X)[0]\n",
    "        preds=np.zeros((samples,1))\n",
    "        for clf in self.clfs:\n",
    "            predictions=np.ones(np.shape(preds))\n",
    "            negative_index=(clf.polarity*X[:,clf.feature_index]<clf.polarity*clf.threshold)\n",
    "            predictions[negative_index]=-1\n",
    "            preds+=clf.alpha*predictions\n",
    "        preds=np.sign(preds).flatten()\n",
    "        return preds\n",
    "            \n",
    "            \n",
    "        \n",
    "            \n",
    "                        \n",
    "                \n",
    "                \n",
    "        "
   ]
  },
  {
   "cell_type": "code",
   "execution_count": 3,
   "metadata": {},
   "outputs": [],
   "source": [
    "from sklearn.datasets import load_breast_cancer\n",
    "X=load_breast_cancer().data\n",
    "y=load_breast_cancer().target\n",
    "y[y==0]=-1"
   ]
  },
  {
   "cell_type": "code",
   "execution_count": 4,
   "metadata": {},
   "outputs": [],
   "source": [
    "from sklearn.model_selection import train_test_split\n",
    "X_train,X_test,y_train,y_test=train_test_split(X,y,test_size=0.2,random_state=42)"
   ]
  },
  {
   "cell_type": "code",
   "execution_count": 5,
   "metadata": {},
   "outputs": [],
   "source": [
    "ad=AdaboostClassifier()\n",
    "ad.fit(X_train,y_train)"
   ]
  },
  {
   "cell_type": "code",
   "execution_count": 6,
   "metadata": {},
   "outputs": [],
   "source": [
    "pred=ad.predict(X_test)"
   ]
  },
  {
   "cell_type": "code",
   "execution_count": 7,
   "metadata": {},
   "outputs": [
    {
     "name": "stdout",
     "output_type": "stream",
     "text": [
      "0.8947368421052632\n"
     ]
    }
   ],
   "source": [
    "print(accuracy_score(y_test,pred))"
   ]
  },
  {
   "cell_type": "code",
   "execution_count": null,
   "metadata": {},
   "outputs": [],
   "source": []
  }
 ],
 "metadata": {
  "kernelspec": {
   "display_name": "Python 3",
   "language": "python",
   "name": "python3"
  },
  "language_info": {
   "codemirror_mode": {
    "name": "ipython",
    "version": 3
   },
   "file_extension": ".py",
   "mimetype": "text/x-python",
   "name": "python",
   "nbconvert_exporter": "python",
   "pygments_lexer": "ipython3",
   "version": "3.8.5"
  }
 },
 "nbformat": 4,
 "nbformat_minor": 4
}
