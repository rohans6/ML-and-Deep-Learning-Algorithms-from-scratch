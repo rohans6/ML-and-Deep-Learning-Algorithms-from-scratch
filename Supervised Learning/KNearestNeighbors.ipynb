{
 "cells": [
  {
   "cell_type": "code",
   "execution_count": 8,
   "metadata": {},
   "outputs": [],
   "source": [
    "import numpy as np\n",
    "import math\n",
    "from sklearn.datasets import load_iris\n",
    "from sklearn.metrics import accuracy_score\n",
    "def euclidean_distance(x1,x2):\n",
    "    distance=0\n",
    "    for i in range(len(x1)):\n",
    "        distance+=np.power((x1[i]-x2[i]),2)\n",
    "    return distance    \n",
    "            "
   ]
  },
  {
   "cell_type": "code",
   "execution_count": 31,
   "metadata": {},
   "outputs": [],
   "source": [
    "class KNearestNeighbors():\n",
    "    def __init__(self,n_neighbors=5):\n",
    "        self.n_neighbors=n_neighbors\n",
    "    def vote(self,neighbors):\n",
    "        p=np.bincount(neighbors.astype('int'))\n",
    "        return p.argmax()\n",
    "    def predict(self,X,y,X_test):\n",
    "        y_pred=np.empty(X_test.shape[0])\n",
    "        for i,sample in enumerate(X_test):\n",
    "            idx=np.argsort([euclidean_distance(sample,x) for x in X])[:self.n_neighbors]\n",
    "            pred=np.array([y[i] for i in idx])\n",
    "            y_pred[i]=self.vote(pred)\n",
    "        return y_pred    \n",
    "            \n",
    "        \n",
    "    "
   ]
  },
  {
   "cell_type": "code",
   "execution_count": 32,
   "metadata": {},
   "outputs": [],
   "source": [
    "data=load_iris()\n",
    "X=data.data[data.target !=0]\n",
    "y=data.target[data.target!=0]\n",
    "y[y==1]=0\n",
    "y[y==2]=1\n",
    "from sklearn.model_selection import train_test_split"
   ]
  },
  {
   "cell_type": "code",
   "execution_count": 33,
   "metadata": {},
   "outputs": [],
   "source": [
    "X_train,X_test,y_train,y_test=train_test_split(X,y,test_size=0.2,random_state=42)"
   ]
  },
  {
   "cell_type": "code",
   "execution_count": 34,
   "metadata": {},
   "outputs": [],
   "source": [
    "Knn=KNearestNeighbors()"
   ]
  },
  {
   "cell_type": "code",
   "execution_count": 36,
   "metadata": {},
   "outputs": [],
   "source": [
    "pred_test=Knn.predict(X_train,y_train,X_test)"
   ]
  },
  {
   "cell_type": "code",
   "execution_count": 37,
   "metadata": {},
   "outputs": [
    {
     "name": "stdout",
     "output_type": "stream",
     "text": [
      "0.9\n"
     ]
    }
   ],
   "source": [
    "print(accuracy_score(y_test,pred_test))"
   ]
  },
  {
   "cell_type": "code",
   "execution_count": null,
   "metadata": {},
   "outputs": [],
   "source": []
  }
 ],
 "metadata": {
  "kernelspec": {
   "display_name": "Python 3",
   "language": "python",
   "name": "python3"
  },
  "language_info": {
   "codemirror_mode": {
    "name": "ipython",
    "version": 3
   },
   "file_extension": ".py",
   "mimetype": "text/x-python",
   "name": "python",
   "nbconvert_exporter": "python",
   "pygments_lexer": "ipython3",
   "version": "3.8.5"
  }
 },
 "nbformat": 4,
 "nbformat_minor": 4
}
