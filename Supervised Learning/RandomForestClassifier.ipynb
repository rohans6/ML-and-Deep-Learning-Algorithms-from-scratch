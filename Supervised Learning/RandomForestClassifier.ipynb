{
 "cells": [
  {
   "cell_type": "code",
   "execution_count": 5,
   "metadata": {},
   "outputs": [],
   "source": [
    "import import_ipynb\n",
    "import numpy as np\n",
    "from DecisionTree import DecisionClassification\n",
    "import math\n",
    "from sklearn.datasets import load_iris\n",
    "from sklearn.model_selection import train_test_split\n",
    "from sklearn.datasets import load_breast_cancer\n",
    "from sklearn.metrics import accuracy_score"
   ]
  },
  {
   "cell_type": "code",
   "execution_count": 6,
   "metadata": {},
   "outputs": [],
   "source": [
    "class RandomForest():\n",
    "    def __init__(self,n_estimators=100,min_samples_split=2,min_impurity=1e-07,max_depth=float(\"inf\"),max_features=None):\n",
    "        self.n_estimators=n_estimators\n",
    "        self.min_samples_split=min_samples_split\n",
    "        self.min_impurity=min_impurity\n",
    "        self.max_depth=max_depth\n",
    "        self.max_features=max_features\n",
    "        self.tree=[]\n",
    "        for i in range(self.n_estimators):\n",
    "            self.tree.append(DecisionClassification(min_samples_split=self.min_samples_split,min_impurity=self.min_impurity,max_depth=self.max_depth))\n",
    "    def fit(self,X,y):\n",
    "        features=np.shape(X)[1]\n",
    "        if not self.max_features:\n",
    "            self.max_features=int(math.sqrt(features))\n",
    "        subsets=random_subsets(X,y,self.n_estimators)\n",
    "        for i in range(self.n_estimators):\n",
    "            Xi,yi=subsets[i]\n",
    "            idx=np.random.choice(range(features),size=self.max_features,replace=True)\n",
    "            Xi=Xi[:,idx]\n",
    "            self.tree[i].feature_i=idx\n",
    "            self.tree[i].fit(Xi,yi)\n",
    "    def predict(self,X):\n",
    "        y_pred=np.empty((X.shape[0],len(self.tree)))\n",
    "        for i,tre in enumerate(self.tree):\n",
    "            idx=tre.feature_i\n",
    "            Xi=X[:,idx]\n",
    "            prediction=tre.predict(Xi)\n",
    "            y_pred[:,i]=prediction\n",
    "        y_preds=[]\n",
    "        for prediction in y_pred:\n",
    "            y_preds.append(np.bincount(prediction.astype('int')).argmax())\n",
    "        return y_preds    \n",
    "            "
   ]
  },
  {
   "cell_type": "code",
   "execution_count": 7,
   "metadata": {},
   "outputs": [],
   "source": [
    "def random_subsets(X,y,n_est,replacement=True):\n",
    "    Xy=np.concatenate((X,y.reshape((1, len(y))).T),axis=1)\n",
    "    data=[]\n",
    "    n_samples=X.shape[0]\n",
    "    n_size=n_samples//2\n",
    "    if replacement:\n",
    "        n_size=n_samples\n",
    "    for i in range(n_est):\n",
    "        idx=np.random.choice(range(n_samples),size=np.shape(range(n_size)),replace=replacement)\n",
    "        X=Xy[idx][:,:-1]\n",
    "        y=Xy[idx][:,-1]\n",
    "        data.append([X,y])\n",
    "    return data    \n",
    "        "
   ]
  },
  {
   "cell_type": "code",
   "execution_count": 8,
   "metadata": {},
   "outputs": [
    {
     "name": "stdout",
     "output_type": "stream",
     "text": [
      "0.9910714285714286\n",
      "0.9736842105263158\n"
     ]
    }
   ],
   "source": [
    "from sklearn.datasets import load_iris\n",
    "from sklearn.model_selection import train_test_split\n",
    "from sklearn.datasets import load_breast_cancer\n",
    "from sklearn.metrics import accuracy_score\n",
    "x,Y=load_iris().data,load_iris().target\n",
    "x_train,x_test,Y_train,Y_test=train_test_split(x,Y)\n",
    "clf=RandomForest()\n",
    "clf.fit(x_train,Y_train)\n",
    "pred=clf.predict(x_train)\n",
    "pred_test=clf.predict(x_test)\n",
    "print(accuracy_score(Y_train,pred))\n",
    "print(accuracy_score(Y_test,pred_test))"
   ]
  },
  {
   "cell_type": "code",
   "execution_count": null,
   "metadata": {},
   "outputs": [],
   "source": []
  }
 ],
 "metadata": {
  "kernelspec": {
   "display_name": "Python 3",
   "language": "python",
   "name": "python3"
  },
  "language_info": {
   "codemirror_mode": {
    "name": "ipython",
    "version": 3
   },
   "file_extension": ".py",
   "mimetype": "text/x-python",
   "name": "python",
   "nbconvert_exporter": "python",
   "pygments_lexer": "ipython3",
   "version": "3.8.5"
  }
 },
 "nbformat": 4,
 "nbformat_minor": 4
}
