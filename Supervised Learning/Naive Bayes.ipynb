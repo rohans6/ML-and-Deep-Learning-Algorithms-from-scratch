{
 "cells": [
  {
   "cell_type": "code",
   "execution_count": 6,
   "metadata": {},
   "outputs": [],
   "source": [
    "import numpy as np\n",
    "import math"
   ]
  },
  {
   "cell_type": "code",
   "execution_count": 2,
   "metadata": {},
   "outputs": [],
   "source": [
    "d=np.array([1,0,1,0,0,0,1])"
   ]
  },
  {
   "cell_type": "code",
   "execution_count": 5,
   "metadata": {},
   "outputs": [
    {
     "name": "stdout",
     "output_type": "stream",
     "text": [
      "0.5714285714285714\n",
      "0.42857142857142855\n"
     ]
    }
   ],
   "source": [
    "j=np.unique(d)\n",
    "for i in j:\n",
    "    print(np.mean(d==i))"
   ]
  },
  {
   "cell_type": "code",
   "execution_count": 37,
   "metadata": {},
   "outputs": [],
   "source": [
    "class Naive_Bayes():\n",
    "    def fit(self,X,y):\n",
    "        self.params=[]\n",
    "        self.unique=np.unique(y)\n",
    "        for i,c in enumerate(self.unique):\n",
    "            X_where=X[np.where(y==c)]\n",
    "            self.params.append([])\n",
    "            for col in X_where.T:\n",
    "                self.params[i].append({\"mean\":col.mean(),\"std\":col.var()})\n",
    "    def calculate_likelihood(self,means,var,x):\n",
    "        eps=1e-07\n",
    "        p=1/(math.sqrt(2*math.pi)*var+eps)\n",
    "        r=math.exp(-(np.power(x - means, 2) / (2 * var + eps)))\n",
    "        return p*r\n",
    "    def calculate_prior(self,c):\n",
    "        return np.mean(y==c)\n",
    "    def classify(self,sample):\n",
    "        posteriors=[]\n",
    "        for i,c in enumerate(self.unique):\n",
    "            post=self.calculate_prior(c)\n",
    "            for feature,param in zip(sample,self.params[i]):\n",
    "                likelihood=self.calculate_likelihood(param['mean'],param[\"std\"],feature)\n",
    "                post*=post*likelihood\n",
    "            posteriors.append(post)\n",
    "        return self.unique[np.argmax(posteriors)]\n",
    "    def predict(self,X):\n",
    "        y_pred=[self.classify(x) for x in X]\n",
    "        return y_pred\n",
    "    "
   ]
  },
  {
   "cell_type": "code",
   "execution_count": 38,
   "metadata": {},
   "outputs": [],
   "source": [
    "from sklearn.datasets import load_iris\n",
    "data=load_iris()\n",
    "X=data.data[data.target !=0]\n",
    "y=data.target[data.target!=0]\n",
    "y[y==1]=0\n",
    "y[y==2]=1\n",
    "from sklearn.model_selection import train_test_split"
   ]
  },
  {
   "cell_type": "code",
   "execution_count": 39,
   "metadata": {},
   "outputs": [],
   "source": [
    "X_train,X_test,y_train,y_test=train_test_split(X,y,test_size=0.2,random_state=42)"
   ]
  },
  {
   "cell_type": "code",
   "execution_count": 40,
   "metadata": {},
   "outputs": [],
   "source": [
    "bayes=Naive_Bayes()\n",
    "bayes.fit(X_train,y_train)\n"
   ]
  },
  {
   "cell_type": "code",
   "execution_count": 44,
   "metadata": {},
   "outputs": [],
   "source": [
    "pred=bayes.predict(X_test)"
   ]
  },
  {
   "cell_type": "code",
   "execution_count": 45,
   "metadata": {},
   "outputs": [
    {
     "name": "stdout",
     "output_type": "stream",
     "text": [
      "0.75\n"
     ]
    }
   ],
   "source": [
    "from sklearn.metrics import accuracy_score\n",
    "print(accuracy_score(y_test,pred))"
   ]
  },
  {
   "cell_type": "code",
   "execution_count": 46,
   "metadata": {},
   "outputs": [
    {
     "name": "stdout",
     "output_type": "stream",
     "text": [
      "0.85\n"
     ]
    }
   ],
   "source": [
    "pred_train=bayes.predict(X_train)\n",
    "print(accuracy_score(y_train,pred_train))"
   ]
  },
  {
   "cell_type": "code",
   "execution_count": null,
   "metadata": {},
   "outputs": [],
   "source": []
  }
 ],
 "metadata": {
  "kernelspec": {
   "display_name": "Python 3",
   "language": "python",
   "name": "python3"
  },
  "language_info": {
   "codemirror_mode": {
    "name": "ipython",
    "version": 3
   },
   "file_extension": ".py",
   "mimetype": "text/x-python",
   "name": "python",
   "nbconvert_exporter": "python",
   "pygments_lexer": "ipython3",
   "version": "3.8.5"
  }
 },
 "nbformat": 4,
 "nbformat_minor": 4
}
