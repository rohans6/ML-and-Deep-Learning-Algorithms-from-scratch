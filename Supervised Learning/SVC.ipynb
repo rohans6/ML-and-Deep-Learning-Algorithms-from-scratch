{
 "cells": [
  {
   "cell_type": "code",
   "execution_count": 23,
   "metadata": {},
   "outputs": [
    {
     "name": "stdout",
     "output_type": "stream",
     "text": [
      "Collecting cvxopt\n",
      "  Downloading cvxopt-1.2.5.post1-cp38-cp38-win_amd64.whl (9.5 MB)\n",
      "Installing collected packages: cvxopt\n",
      "Successfully installed cvxopt-1.2.5.post1\n"
     ]
    }
   ],
   "source": [
    "!pip install cvxopt"
   ]
  },
  {
   "cell_type": "code",
   "execution_count": 12,
   "metadata": {},
   "outputs": [],
   "source": [
    "import cvxopt\n",
    "import numpy as np"
   ]
  },
  {
   "cell_type": "code",
   "execution_count": 2,
   "metadata": {},
   "outputs": [],
   "source": [
    "from sklearn.metrics import accuracy_score"
   ]
  },
  {
   "cell_type": "code",
   "execution_count": 19,
   "metadata": {},
   "outputs": [],
   "source": [
    "from sklearn.datasets import load_breast_cancer\n",
    "X,y=load_breast_cancer().data,load_breast_cancer().target"
   ]
  },
  {
   "cell_type": "code",
   "execution_count": 20,
   "metadata": {},
   "outputs": [],
   "source": [
    "from sklearn.model_selection import train_test_split\n",
    "X,X_test,y,y_test=train_test_split(X,y,test_size=0.2)"
   ]
  },
  {
   "cell_type": "code",
   "execution_count": 21,
   "metadata": {},
   "outputs": [],
   "source": [
    "y[y==0]=-1\n",
    "y_test[y_test==0]=-1"
   ]
  },
  {
   "cell_type": "code",
   "execution_count": null,
   "metadata": {},
   "outputs": [],
   "source": []
  },
  {
   "cell_type": "code",
   "execution_count": 22,
   "metadata": {},
   "outputs": [
    {
     "name": "stdout",
     "output_type": "stream",
     "text": [
      "Accuracy: 1.0\n",
      "Accuracy: 0.631578947368421\n"
     ]
    }
   ],
   "source": [
    "def linear(x, z):\n",
    "    return np.dot(x, z.T)\n",
    "\n",
    "\n",
    "def polynomial(x, z, p=5):\n",
    "    return (1 + np.dot(x, z.T)) ** p\n",
    "\n",
    "\n",
    "def gaussian(x, z, sigma=0.3):\n",
    "    return np.exp(-np.linalg.norm(x - z, axis=1) ** 2 / (2 * (sigma ** 2)))\n",
    "\n",
    "def rbf_kernel(x1,x,gamma, **kwargs):\n",
    "    def f(x1, x2):\n",
    "        distance = np.linalg.norm(x1 - x2) ** 2\n",
    "        return np.exp(-gamma * distance)\n",
    "    return f\n",
    "\n",
    "\n",
    "class SVM:\n",
    "    def __init__(self, kernel=gaussian, C=1,gamma=1):\n",
    "        self.kernel = gaussian\n",
    "        self.C = C\n",
    "        self.gamma=gamma\n",
    "\n",
    "    def fit(self, X, y):\n",
    "        self.y = y\n",
    "        self.X = X\n",
    "        m, n = X.shape\n",
    "\n",
    "        # Calculate Kernel\n",
    "        self.K = np.zeros((m, m))\n",
    "        for i in range(m):\n",
    "            self.K[i, :] = self.kernel(X[i, np.newaxis], self.X)\n",
    "\n",
    "        # Solve with cvxopt final QP needs to be reformulated\n",
    "        # to match the input form for cvxopt.solvers.qp\n",
    "        P = cvxopt.matrix(np.outer(y, y) * self.K)\n",
    "        q = cvxopt.matrix(-np.ones((m, 1)))\n",
    "        G = cvxopt.matrix(np.vstack((np.eye(m) * -1, np.eye(m))))\n",
    "        h = cvxopt.matrix(np.hstack((np.zeros(m), np.ones(m) * self.C)))\n",
    "        A = cvxopt.matrix(y, (1, m), \"d\")\n",
    "        b = cvxopt.matrix(np.zeros(1))\n",
    "        cvxopt.solvers.options[\"show_progress\"] = False\n",
    "        sol = cvxopt.solvers.qp(P, q, G, h, A, b)\n",
    "        self.alphas = np.array(sol[\"x\"])\n",
    "\n",
    "    def predict(self, X):\n",
    "        y_predict = np.zeros((X.shape[0]))\n",
    "        sv = self.get_parameters(self.alphas)\n",
    "\n",
    "        for i in range(X.shape[0]):\n",
    "            y_predict[i] = np.sum(\n",
    "                self.alphas[sv]\n",
    "                * self.y[sv, np.newaxis]\n",
    "                * self.kernel(X[i], self.X[sv])[:, np.newaxis]\n",
    "            )\n",
    "\n",
    "        return np.sign(y_predict + self.b)\n",
    "\n",
    "    def get_parameters(self, alphas):\n",
    "        threshold = 1e-7\n",
    "\n",
    "        sv = ((alphas > threshold) * (alphas < self.C)).flatten()\n",
    "        self.w = np.dot(X[sv].T, alphas[sv] * self.y[sv, np.newaxis])\n",
    "        self.b = np.mean(\n",
    "            self.y[sv, np.newaxis]\n",
    "            - self.alphas[sv] * self.y[sv, np.newaxis] * self.K[sv, sv][:, np.newaxis]\n",
    "        )\n",
    "        return sv\n",
    "\n",
    "\n",
    "if __name__ == \"__main__\":\n",
    "    np.random.seed(1)\n",
    "  \n",
    "\n",
    "    svm = SVM(kernel=polynomial)\n",
    "    svm.fit(X, y)\n",
    "    y_pred = svm.predict(X_test)\n",
    "    y_pred_train=svm.predict(X)\n",
    "    print(f\"Accuracy: {sum(y==y_pred_train)/y.shape[0]}\")\n",
    "\n",
    "    print(f\"Accuracy: {sum(y_test==y_pred)/y_test.shape[0]}\")"
   ]
  },
  {
   "cell_type": "code",
   "execution_count": null,
   "metadata": {},
   "outputs": [],
   "source": []
  },
  {
   "cell_type": "code",
   "execution_count": null,
   "metadata": {},
   "outputs": [],
   "source": []
  }
 ],
 "metadata": {
  "kernelspec": {
   "display_name": "Python 3",
   "language": "python",
   "name": "python3"
  },
  "language_info": {
   "codemirror_mode": {
    "name": "ipython",
    "version": 3
   },
   "file_extension": ".py",
   "mimetype": "text/x-python",
   "name": "python",
   "nbconvert_exporter": "python",
   "pygments_lexer": "ipython3",
   "version": "3.8.5"
  }
 },
 "nbformat": 4,
 "nbformat_minor": 4
}
