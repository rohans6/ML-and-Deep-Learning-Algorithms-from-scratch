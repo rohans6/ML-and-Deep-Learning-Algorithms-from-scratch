{
 "cells": [
  {
   "cell_type": "code",
   "execution_count": 1,
   "metadata": {},
   "outputs": [],
   "source": [
    "import numpy as np\n",
    "class l1_regularization():\n",
    "    #Lasso Regression\n",
    "    def __init__(self,alpha):\n",
    "        self.alpha=alpha\n",
    "    def __call__(self,w):\n",
    "        return self.alpha*np.linalg.norm(w)\n",
    "    def grad(self,w):\n",
    "        return self.alpha*np.sign(w)\n",
    "    \n",
    "        "
   ]
  },
  {
   "cell_type": "code",
   "execution_count": 2,
   "metadata": {},
   "outputs": [],
   "source": [
    "class l2_regularization():\n",
    "    #Ridge Regression\n",
    "    def __init__(self,alpha):\n",
    "        self.alpha=alpha\n",
    "    def __call__(self,w):\n",
    "        return 0.5*self.alpha*(w.T.dot(w))\n",
    "    def grad(self,w):\n",
    "        return self.alpha*w\n",
    "    "
   ]
  },
  {
   "cell_type": "code",
   "execution_count": 3,
   "metadata": {},
   "outputs": [],
   "source": [
    "def l1_l2_regularization():\n",
    "    #Elatic Net\n",
    "    def __init__(self,alpha,r=0.5):\n",
    "        self.r=r\n",
    "        self.alpha=alpha\n",
    "    def __call__(self,w):\n",
    "        out_1=r*self.alpha*np.linalg.norm(w)\n",
    "        out_2=(1-r)*0.5*self.alpha*(w.T.dot(w))\n",
    "        out=out_1+out_2\n",
    "        return out\n",
    "    def grad(self,w):\n",
    "        out_1=r*self.alpha*np.sign(w)\n",
    "        out_2=(1-r)*self.alpha*w\n",
    "        return (out_1+out_2)\n",
    "    \n",
    "        "
   ]
  },
  {
   "cell_type": "code",
   "execution_count": 4,
   "metadata": {},
   "outputs": [],
   "source": [
    "import math"
   ]
  },
  {
   "cell_type": "code",
   "execution_count": 5,
   "metadata": {},
   "outputs": [],
   "source": [
    "class Regression(object):\n",
    "    \"\"\" Base regression model. Models the relationship between a scalar dependent variable y and the independent \n",
    "    variables X. \n",
    "    Parameters:\n",
    "    -----------\n",
    "    n_iterations: float\n",
    "        The number of training iterations the algorithm will tune the weights for.\n",
    "    learning_rate: float\n",
    "        The step length that will be used when updating the weights.\n",
    "    \"\"\"\n",
    "    def __init__(self, n_iterations, learning_rate):\n",
    "        self.n_iterations = n_iterations\n",
    "        self.learning_rate = learning_rate\n",
    "\n",
    "    def initialize_weights(self, n_features):\n",
    "        \"\"\" Initialize weights randomly [-1/N, 1/N] \"\"\"\n",
    "        limit = 1 / math.sqrt(n_features)\n",
    "        self.w = np.random.uniform(-limit, limit, (n_features, ))\n",
    "\n",
    "    def fit(self, X, y):\n",
    "        # Insert constant ones for bias weights\n",
    "        X = np.insert(X, 0, 1, axis=1)\n",
    "        self.training_errors = []\n",
    "        self.initialize_weights(n_features=X.shape[1])\n",
    "\n",
    "        # Do gradient descent for n_iterations\n",
    "        for i in range(self.n_iterations):\n",
    "            y_pred = X.dot(self.w)\n",
    "            # Calculate l2 loss\n",
    "            mse = np.mean(0.5 * (y - y_pred)**2 + self.regularization(self.w))\n",
    "            self.training_errors.append(mse)\n",
    "            # Gradient of l2 loss w.r.t w\n",
    "            grad_w = -(y - y_pred).dot(X) + self.regularization.grad(self.w)\n",
    "            # Update the weights\n",
    "            self.w -= self.learning_rate * grad_w\n",
    "\n",
    "    def predict(self, X):\n",
    "        # Insert constant ones for bias weights\n",
    "        X = np.insert(X, 0, 1, axis=1)\n",
    "        y_pred = X.dot(self.w)\n",
    "        return y_pred\n",
    "\n",
    "class LinearRegression(Regression):\n",
    "    \"\"\"Linear model.\n",
    "    Parameters:\n",
    "    -----------\n",
    "    n_iterations: float\n",
    "        The number of training iterations the algorithm will tune the weights for.\n",
    "    learning_rate: float\n",
    "        The step length that will be used when updating the weights.\n",
    "    gradient_descent: boolean\n",
    "        True or false depending if gradient descent should be used when training. If \n",
    "        false then we use batch optimization by least squares.\n",
    "    \"\"\"\n",
    "    def __init__(self, n_iterations=100, learning_rate=0.001, gradient_descent=True):\n",
    "        self.gradient_descent = gradient_descent\n",
    "        # No regularization\n",
    "        self.regularization = lambda x: 0\n",
    "        self.regularization.grad = lambda x: 0\n",
    "        super(LinearRegression, self).__init__(n_iterations=n_iterations,\n",
    "                                            learning_rate=learning_rate)\n",
    "    def fit(self, X, y):\n",
    "        # If not gradient descent => Least squares approximation of w\n",
    "        if not self.gradient_descent:\n",
    "            # Insert constant ones for bias weights\n",
    "            X = np.insert(X, 0, 1, axis=1)\n",
    "            # Calculate weights by least squares (using Moore-Penrose pseudoinverse)\n",
    "            U, S, V = np.linalg.svd(X.T.dot(X))\n",
    "            S = np.diag(S)\n",
    "            X_sq_reg_inv = V.dot(np.linalg.pinv(S)).dot(U.T)\n",
    "            self.w = X_sq_reg_inv.dot(X.T).dot(y)\n",
    "        else:\n",
    "            super(LinearRegression, self).fit(X, y)"
   ]
  },
  {
   "cell_type": "code",
   "execution_count": 6,
   "metadata": {},
   "outputs": [],
   "source": [
    "class LassoRegression(Regression):\n",
    "    \"\"\"Linear regression model with a regularization factor which does both variable selection \n",
    "    and regularization. Model that tries to balance the fit of the model with respect to the training \n",
    "    data and the complexity of the model. A large regularization factor with decreases the variance of \n",
    "    the model and do para.\n",
    "    Parameters:\n",
    "    -----------\n",
    "    degree: int\n",
    "        The degree of the polynomial that the independent variable X will be transformed to.\n",
    "    reg_factor: float\n",
    "        The factor that will determine the amount of regularization and feature\n",
    "        shrinkage. \n",
    "    n_iterations: float\n",
    "        The number of training iterations the algorithm will tune the weights for.\n",
    "    learning_rate: float\n",
    "        The step length that will be used when updating the weights.\n",
    "    \"\"\"\n",
    "    def __init__(self, reg_factor, n_iterations=3000, learning_rate=0.01):\n",
    "        self.regularization = l1_regularization(alpha=reg_factor)\n",
    "        super(LassoRegression, self).__init__(n_iterations, \n",
    "                                            learning_rate)\n",
    "\n",
    "    def fit(self, X, y):\n",
    "        #X = normalize(polynomial_features(X, degree=self.degree))\n",
    "        super(LassoRegression, self).fit(X, y)\n",
    "\n",
    "    def predict(self, X):\n",
    "        #X = normalize(polynomial_features(X, degree=self.degree))\n",
    "        return super(LassoRegression, self).predict(X)"
   ]
  },
  {
   "cell_type": "code",
   "execution_count": 7,
   "metadata": {},
   "outputs": [],
   "source": [
    "class Ridge_regression(Regression):\n",
    "    def __init__(self,reg_factor,n_iterations,learning_rate):\n",
    "        self.regularization=l2_regularization(alpha=reg_factor)\n",
    "        super(Ridge_regression,self).__init__(n_iterations,learning_rate)"
   ]
  },
  {
   "cell_type": "code",
   "execution_count": 14,
   "metadata": {},
   "outputs": [],
   "source": [
    "def main():\n",
    "    from sklearn.datasets import make_regression\n",
    "    from sklearn.model_selection import train_test_split\n",
    "    from sklearn.metrics import r2_score\n",
    "    X, y = make_regression(n_samples=100, n_features=1, noise=20)\n",
    "\n",
    "    X_train, X_test, y_train, y_test = train_test_split(X, y, test_size=0.4)\n",
    "\n",
    "    model =Ridge_regression(reg_factor=0.05,n_iterations=4000,learning_rate=0.001)\n",
    "\n",
    "    model.fit(X_train, y_train)\n",
    "    pred_train=model.predict(X_train)\n",
    "    pred_test=model.predict(X_test)\n",
    "    print(r2_score(y_train,pred_train))\n",
    "    print(r2_score(y_test,pred_test))"
   ]
  },
  {
   "cell_type": "code",
   "execution_count": 15,
   "metadata": {},
   "outputs": [
    {
     "name": "stdout",
     "output_type": "stream",
     "text": [
      "0.8421630466393585\n",
      "0.8097339346421636\n"
     ]
    }
   ],
   "source": [
    "main()"
   ]
  },
  {
   "cell_type": "code",
   "execution_count": null,
   "metadata": {},
   "outputs": [],
   "source": []
  }
 ],
 "metadata": {
  "kernelspec": {
   "display_name": "Python 3",
   "language": "python",
   "name": "python3"
  },
  "language_info": {
   "codemirror_mode": {
    "name": "ipython",
    "version": 3
   },
   "file_extension": ".py",
   "mimetype": "text/x-python",
   "name": "python",
   "nbconvert_exporter": "python",
   "pygments_lexer": "ipython3",
   "version": "3.8.5"
  }
 },
 "nbformat": 4,
 "nbformat_minor": 4
}
